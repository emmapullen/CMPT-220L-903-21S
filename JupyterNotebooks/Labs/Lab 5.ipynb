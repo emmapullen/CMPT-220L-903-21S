{
 "cells": [
  {
   "cell_type": "markdown",
   "metadata": {},
   "source": [
    "# Lab Five\n",
    "---\n",
    "\n",
    "For this lab we're going to be messing around with our Linear Data Types!\n",
    "\n",
    "Our Goals are:\n",
    "- Creating an Array\n",
    "- Creating an ArrayList\n",
    "- Creating an LinkedList\n",
    "- Creating an Queue\n",
    "- Creating an Stack \n",
    "\n",
    "Please show the ability to:\n",
    "- Create these data types\n",
    "- Populate the data types\n",
    "- Print out the Linear Data Types"
   ]
  },
  {
   "cell_type": "code",
   "execution_count": 26,
   "metadata": {},
   "outputs": [
    {
     "name": "stdout",
     "output_type": "stream",
     "text": [
      "The first color is red\n",
      "The second color is blue\n",
      "The third color is pink\n",
      "The fourth color is green\n"
     ]
    }
   ],
   "source": [
    "// Create an Array, Populate it, and Print it out\r\n",
    "String[] colors= new String[4];\r\n",
    "colors[0]=\"red\";\r\n",
    "colors[1]=\"blue\";\r\n",
    "colors[2]=\"pink\";\r\n",
    "colors[3]=\"green\";\r\n",
    "System.out.println(\"The first color is \" +colors[0]);\r\n",
    "System.out.println(\"The second color is \" +colors[1]);\r\n",
    "System.out.println(\"The third color is \" +colors[2]);\r\n",
    "System.out.println(\"The fourth color is \" +colors[3]);\r\n"
   ]
  },
  {
   "cell_type": "code",
   "execution_count": 8,
   "metadata": {},
   "outputs": [
    {
     "name": "stdout",
     "output_type": "stream",
     "text": [
      "[red, blue, green, yellow]\n"
     ]
    }
   ],
   "source": [
    "// Create an ArrayList, Populate it, and Print it out\r\n",
    "import java.util.ArrayList;\r\n",
    "ArrayList<String> colors=new ArrayList<String>();\r\n",
    "colors.add(\"red\");\r\n",
    "colors.add(\"blue\");\r\n",
    "colors.add(\"green\");\r\n",
    "colors.add(\"yellow\");\r\n",
    "System.out.println(colors);"
   ]
  },
  {
   "cell_type": "code",
   "execution_count": 9,
   "metadata": {},
   "outputs": [
    {
     "name": "stdout",
     "output_type": "stream",
     "text": [
      "[red, blue, green, pink]\n"
     ]
    }
   ],
   "source": [
    "// Create an LinkedList, Populate it, and Print it out\r\n",
    "import java.util.LinkedList;\r\n",
    "LinkedList<String> colors=new LinkedList<String>();\r\n",
    "colors.add(\"red\");\r\n",
    "colors.add(\"blue\");\r\n",
    "colors.add(\"green\");\r\n",
    "colors.add(\"pink\");\r\n",
    "System.out.println(colors);"
   ]
  },
  {
   "cell_type": "code",
   "execution_count": 12,
   "metadata": {},
   "outputs": [
    {
     "name": "stdout",
     "output_type": "stream",
     "text": [
      "[pink, red, blue, yellow]\n"
     ]
    }
   ],
   "source": [
    "// Create an Queue, Populate it, and Print it out\r\n",
    "import java.util.LinkedList;\r\n",
    "import java.util.Queue;\r\n",
    "Queue<String>colors=new LinkedList<>();\r\n",
    "colors.add(\"pink\");\r\n",
    "colors.add(\"red\");\r\n",
    "colors.add(\"blue\");\r\n",
    "colors.add(\"yellow\");\r\n",
    "System.out.println(colors);"
   ]
  },
  {
   "cell_type": "code",
   "execution_count": 15,
   "metadata": {},
   "outputs": [
    {
     "name": "stdout",
     "output_type": "stream",
     "text": [
      "[red, green, pink, yellow]\n"
     ]
    }
   ],
   "source": [
    "// Create an Stack, Populate it, and Print it out\r\n",
    "import java.util.*;\r\n",
    "Stack<String> colors= new Stack<String>();\r\n",
    "colors.push(\"red\");\r\n",
    "colors.push(\"green\");\r\n",
    "colors.push(\"pink\");\r\n",
    "colors.push(\"yellow\");\r\n",
    "System.out.println(colors);\r\n"
   ]
  }
 ],
 "metadata": {
  "kernelspec": {
   "display_name": "Java",
   "name": "java"
  },
  "language_info": {
   "name": "java"
  },
  "orig_nbformat": 2
 },
 "nbformat": 4,
 "nbformat_minor": 2
}