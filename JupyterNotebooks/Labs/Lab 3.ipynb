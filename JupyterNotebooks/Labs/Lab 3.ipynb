{
 "cells": [
  {
   "cell_type": "markdown",
   "metadata": {},
   "source": [
    "# Lab Three\n",
    "---\n",
    "\n",
    "For this lab we're going to be making and using a bunch of functions. \n",
    "\n",
    "Our Goals are:\n",
    "- Switch Case\n",
    "- Looping\n",
    "- Making our own functions\n",
    "- Combining functions\n",
    "- Structuring solutions"
   ]
  },
  {
   "cell_type": "code",
   "execution_count": 1,
   "metadata": {},
   "outputs": [
    {
     "name": "stdout",
     "output_type": "stream",
     "text": [
      "Mango is the best fruit hands down!\n",
      "Ew, grapes are the worst!\n",
      "Peaches are delicious!\n",
      "Wow, you must hate fruit!\n"
     ]
    }
   ],
   "source": [
    "// Give me an example of you using switch case.\r\n",
    "String fruit=\"Mango\";\r\n",
    "switch(fruit){\r\n",
    "    case \"Mango\":\r\n",
    "        System.out.println(\"Mango is the best fruit hands down!\");\r\n",
    "    case \"Grapes\":\r\n",
    "        System.out.println(\"Ew, grapes are the worst!\");\r\n",
    "    case \"Peach\":\r\n",
    "        System.out.println(\"Peaches are delicious!\");\r\n",
    "    default:\r\n",
    "        System.out.println(\"Wow, you must hate fruit!\");\r\n",
    "}"
   ]
  },
  {
   "cell_type": "code",
   "execution_count": 3,
   "metadata": {},
   "outputs": [
    {
     "name": "stdout",
     "output_type": "stream",
     "text": [
      "0 is a single digit number\n",
      "1 is a single digit number\n",
      "2 is a single digit number\n",
      "3 is a single digit number\n",
      "4 is a single digit number\n",
      "5 is a single digit number\n",
      "6 is a single digit number\n",
      "7 is a single digit number\n",
      "8 is a single digit number\n",
      "9 is a single digit number\n"
     ]
    }
   ],
   "source": [
    "// Give me an example of you using a for loop\r\n",
    "for(int x=0;x<10;x++){\r\n",
    "    System.out.println(x+ \" is a single digit number\");\r\n",
    "}"
   ]
  },
  {
   "cell_type": "code",
   "execution_count": 4,
   "metadata": {},
   "outputs": [
    {
     "name": "stdout",
     "output_type": "stream",
     "text": [
      "My fav Lady Gaga song is Poker Face\n",
      "My fav Lady Gaga song is Bad Romance\n",
      "My fav Lady Gaga song is You and I\n"
     ]
    }
   ],
   "source": [
    "// Give me an example of you using a for each loop\r\n",
    "String[] songs={\"Poker Face\",\"Bad Romance\",\"You and I\"};\r\n",
    "for(String Lady_Gaga: songs){\r\n",
    "    System.out.println(\"My fav Lady Gaga song is \"+Lady_Gaga);\r\n",
    "}"
   ]
  },
  {
   "cell_type": "code",
   "execution_count": 8,
   "metadata": {},
   "outputs": [
    {
     "name": "stdout",
     "output_type": "stream",
     "text": [
      "0 is a single digit number\n",
      "1 is a single digit number\n",
      "2 is a single digit number\n",
      "3 is a single digit number\n",
      "4 is a single digit number\n",
      "5 is a single digit number\n",
      "6 is a single digit number\n",
      "7 is a single digit number\n",
      "8 is a single digit number\n",
      "9 is a single digit number\n"
     ]
    }
   ],
   "source": [
    "// Give me an example of you using a while loop\r\n",
    "int x=0;\r\n",
    "while(x<10){\r\n",
    "    System.out.println(x+ \" is a single digit number\");\r\n",
    "    x++;\r\n",
    "\r\n",
    "}"
   ]
  },
  {
   "cell_type": "code",
   "execution_count": 32,
   "metadata": {},
   "outputs": [
    {
     "name": "stdout",
     "output_type": "stream",
     "text": [
      "9.0\n"
     ]
    }
   ],
   "source": [
    "// I want you to write a function that will take in a number and raise it to the power given. \r\n",
    "\r\n",
    "// For example if given the numbers 2 and 3. The math that the function should do is 2^3 and should print out or return 8. Print the output.\r\n",
    "double power(int base, int exponent){\r\n",
    "    return Math.pow(base,exponent);\r\n",
    "}\r\n",
    "System.out.println(power(3,2));\r\n"
   ]
  },
  {
   "cell_type": "code",
   "execution_count": 28,
   "metadata": {},
   "outputs": [
    {
     "name": "stdout",
     "output_type": "stream",
     "text": [
      "There are 3 5 's in the array\n"
     ]
    }
   ],
   "source": [
    "// I want you to write a function that will take in a list and see how many times a given number is in the list. \r\n",
    "\r\n",
    "// For example if the array given is [2,3,5,2,3,6,7,8,2] and the number given is 2 the function should print out or return 3. Print the output.\r\n",
    " \r\n",
    "void number_counter(int[]array, int target){\r\n",
    "    if (array.length==0){\r\n",
    "        System.out.println(\"The array is empty.\");\r\n",
    "        return;\r\n",
    "    }\r\n",
    "    int counter = 0;\r\n",
    "    for (int number: array){\r\n",
    "        if(number==target){\r\n",
    "            counter++;\r\n",
    "        }\r\n",
    "    }\r\n",
    "    System.out.println(\"There are \"+counter+\" \"+target+\" 's in the array\");\r\n",
    "}\r\n",
    "int[]array={1,2,2,3,3,3,4,4,4,4,5,5,5};\r\n",
    "number_counter(array,5);\r\n"
   ]
  },
  {
   "cell_type": "code",
   "execution_count": 34,
   "metadata": {},
   "outputs": [
    {
     "name": "stdout",
     "output_type": "stream",
     "text": [
      "c is 13.0 and c squared is 169.0\n"
     ]
    }
   ],
   "source": [
    "// Give me a function that gives the answer to the pythagorean theorem. \r\n",
    "// I'd like you to reuse the exponent function from above as well as the functions below to make your function.\r\n",
    "\r\n",
    "// If you don't remember the pythagorean theorem the formula is (a^2 + b^2 = c^2). Given a and b as parameters i'd like you to return c. \r\n",
    "// If this doesn't make sense look up `Pythagorean Theorem Formula` on google.\r\n",
    "\r\n",
    "int addition(int a, int b) {\r\n",
    "    int answer = a + b;\r\n",
    "    return answer;\r\n",
    "}\r\n",
    "\r\n",
    "int division(int a, int b) {\r\n",
    "    int answer = a / b;\r\n",
    "    return answer;\r\n",
    "}\r\n",
    "void pythagorean_theorem(int a,int b){\r\n",
    "    double a_sq=power(a,2);\r\n",
    "    double b_sq=power(b,2);\r\n",
    "    double c_sq=a_sq+b_sq;\r\n",
    "    double c=Math.sqrt(c_sq);\r\n",
    "\r\n",
    "    System.out.println(\"c is \"+c+\" and c squared is \"+c_sq);\r\n",
    "}\r\n",
    "pythagorean_theorem(5,12)\r\n"
   ]
  }
 ],
 "metadata": {
  "kernelspec": {
   "display_name": "Java",
   "language": "java",
   "name": "java"
  },
  "language_info": {
   "codemirror_mode": "java",
   "file_extension": ".jshell",
   "mimetype": "text/x-java-source",
   "name": "Java",
   "pygments_lexer": "java",
   "version": "15.0.2+7-27"
  },
  "orig_nbformat": 2
 },
 "nbformat": 4,
 "nbformat_minor": 2
}