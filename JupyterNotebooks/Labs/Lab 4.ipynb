{
 "cells": [
  {
   "cell_type": "markdown",
   "metadata": {},
   "source": [
    "# Lab Four\n",
    "---\n",
    "\n",
    "For this lab we're going to be messing around with Markdown!\n",
    "\n",
    "Our Goals are:\n",
    "- Using Markdown!\n",
    "\n",
    "I want you to describe to me your process of converting the assignment and making it DRY. \n",
    "\n",
    "Please show the ability to:\n",
    "- Make a header\n",
    "- Make a list (ordered or unordered)\n",
    "- Link the Markdown Guide from the lesson. \n",
    "- Artuculate your thought process."
   ]
  },
  {
   "cell_type": "code",
   "execution_count": null,
   "metadata": {},
   "outputs": [],
   "source": []
  },
  {
   "cell_type": "markdown",
   "metadata": {},
   "source": [
    "# Markdown Lab\r\n",
    " For Assignment 5, my first thought was to use Scanner and have the user input the data. However, I decided to make an array for each customer and what they ordered and use a for loop to go through the array and do the math for the lemonades/pretzels remaining as well as cash and tips.<br>\r\n",
    "\r\n",
    "So what did i do? <br>\r\n",
    "* Establish the lemonade/pretzels available variable, cash variable, and tips variable and their starting amount\r\n",
    "* Create an array for 15 customers\r\n",
    "* I created a separate file for the Customers as it was giving me issues in the main file, so I extended the main file to the Customer file\r\n",
    "* Created a for loop that did the math for each customer and determines the ending output of lemonades/pretzels available and the cash/tips\r\n"
   ]
  }
 ],
 "metadata": {
  "language_info": {
   "codemirror_mode": {
    "name": "ipython",
    "version": 3
   },
   "file_extension": ".py",
   "mimetype": "text/x-python",
   "name": "python",
   "nbconvert_exporter": "python",
   "pygments_lexer": "ipython3",
   "version": 3
  },
  "orig_nbformat": 2
 },
 "nbformat": 4,
 "nbformat_minor": 2
}