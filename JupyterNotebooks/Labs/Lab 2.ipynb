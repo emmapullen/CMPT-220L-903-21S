{
 "cells": [
  {
   "cell_type": "markdown",
   "metadata": {},
   "source": [
    "# Lab Two\n",
    "---\n",
    "\n",
    "Ok for this lab we're going to reiterate a lot of the things that we went over in class.\n",
    "\n",
    "Our Goals are:\n",
    "- Conditionals\n",
    "    - If\n",
    "    - Else\n",
    "    - Else If"
   ]
  },
  {
   "cell_type": "code",
   "execution_count": 13,
   "metadata": {},
   "outputs": [
    {
     "name": "stdout",
     "output_type": "stream",
     "text": [
      "Hello!\n"
     ]
    }
   ],
   "source": [
    "// Make an if statement\r\n",
    "if (true) {\r\n",
    "\r\n",
    "    System.out.println(\"Hello!\");\r\n",
    "}"
   ]
  },
  {
   "cell_type": "code",
   "execution_count": 14,
   "metadata": {},
   "outputs": [
    {
     "name": "stdout",
     "output_type": "stream",
     "text": [
      "I will have a burger.\n"
     ]
    }
   ],
   "source": [
    "// Make an if, else statement where the else statement triggers\r\n",
    "if (!true) {\r\n",
    "\r\n",
    "    System.out.println(\"I will have pizza.\");\r\n",
    "} else {\r\n",
    "    System.out.println(\"I will have a burger.\");\r\n",
    "    \r\n",
    "}"
   ]
  },
  {
   "cell_type": "code",
   "execution_count": 16,
   "metadata": {},
   "outputs": [
    {
     "name": "stdout",
     "output_type": "stream",
     "text": [
      "I will have a burger.\n"
     ]
    }
   ],
   "source": [
    "// Make an if, else if, else statement where the else if statement triggers\r\n",
    "if (!true) {\r\n",
    "\r\n",
    "    System.out.println(\"I will have pizza.\");\r\n",
    "} else if (true){\r\n",
    "    System.out.println(\"I will have a burger.\");\r\n",
    "    \r\n",
    "} else {\r\n",
    "    System.out.println(\"I will have sushi.\");\r\n",
    "    \r\n",
    "}\r\n"
   ]
  },
  {
   "cell_type": "code",
   "execution_count": 17,
   "metadata": {},
   "outputs": [
    {
     "name": "stdout",
     "output_type": "stream",
     "text": [
      "I don't have dessert\n"
     ]
    }
   ],
   "source": [
    "// Make 2 variables and use them in an if else conditional\r\n",
    "boolean cupcakes = false;\r\n",
    "boolean cheesecake = true;\r\n",
    "\r\n",
    "if (!cupcakes && cheesecake) {\r\n",
    "    System.out.println(\"I don't have dessert\");\r\n",
    "} else{\r\n",
    "    System.out.println(\"Yay I have dessert\");\r\n",
    "}\r\n"
   ]
  },
  {
   "cell_type": "code",
   "execution_count": 6,
   "metadata": {},
   "outputs": [
    {
     "name": "stdout",
     "output_type": "stream",
     "text": [
      "Yay I can make a grilled cheese sandwich!\n"
     ]
    }
   ],
   "source": [
    "// Make an if statement using 2 variables and an AND(&&) statement\r\n",
    "boolean bread= true;\r\n",
    "boolean cheese = false;\r\n",
    "\r\n",
    "if (bread && !cheese) {\r\n",
    "    System.out.println(\"Yay I can make a grilled cheese sandwich!\");\r\n",
    "}"
   ]
  },
  {
   "cell_type": "code",
   "execution_count": 11,
   "metadata": {},
   "outputs": [
    {
     "name": "stdout",
     "output_type": "stream",
     "text": [
      "I can have ice cream!\n"
     ]
    }
   ],
   "source": [
    "// Make an if statement using 2 variables and an OR(||) statement\r\n",
    "boolean chocolate_icecream = true;\r\n",
    "boolean vanilla_icecream= false;\r\n",
    "\r\n",
    "if (chocolate_icecream || !vanilla_icecream) {\r\n",
    "    System.out.println(\"I can have ice cream!\");\r\n",
    "}"
   ]
  }
 ],
 "metadata": {
  "kernelspec": {
   "display_name": "Java",
   "language": "java",
   "name": "java"
  },
  "language_info": {
   "codemirror_mode": "java",
   "file_extension": ".jshell",
   "mimetype": "text/x-java-source",
   "name": "Java",
   "pygments_lexer": "java",
   "version": "15.0.2+7-27"
  },
  "orig_nbformat": 2
 },
 "nbformat": 4,
 "nbformat_minor": 2
}