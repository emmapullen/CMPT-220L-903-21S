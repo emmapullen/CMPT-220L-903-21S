{
 "cells": [
  {
   "cell_type": "markdown",
   "metadata": {},
   "source": [
    "# Lab One\n",
    "---\n",
    "\n",
    "Ok for this lab we're going to reiterate a lot of the things that we went over in class.\n",
    "\n",
    "Our Goals are:\n",
    "- Binary Math\n",
    "- Defining Variables\n",
    "    - Primitive Types\n",
    "    - Reference Types\n",
    "- Using Math\n",
    "- Manipulating Variables"
   ]
  },
  {
   "cell_type": "markdown",
   "metadata": {},
   "source": [
    "For this section I just want you to type the answer. I know that you can just look this up but try and do the math. \r\n",
    "### What is 1000 in Decimal\r\n",
    "8\r\n",
    "### What is 1000 1001 in Decimal (This is a byte. It's just split for readability)\r\n",
    "137\r\n",
    "### What is 1010 1111 in Decimal (This is a byte. It's just split for readability)\r\n",
    "175\r\n",
    "### What is 0101 1010 in Decimal (This is a byte. It's just split for readability)\r\n",
    "90"
   ]
  },
  {
   "cell_type": "code",
   "execution_count": 4,
   "metadata": {},
   "outputs": [
    {
     "name": "stdout",
     "output_type": "stream",
     "text": [
      "true\n",
      "100\n",
      "10000\n",
      "500000\n",
      "30\n",
      "2.3\n",
      "2.6\n",
      "e\n"
     ]
    }
   ],
   "source": [
    "// Define 8 variables, one of each type listed: [boolean, byte, short, int, long, float, double, char]. Print all 8 of them.\r\n",
    "boolean emma_1=true;\r\n",
    "byte emma_2=100;\r\n",
    "short emma_3=10000;\r\n",
    "int emma_4= 500000;\r\n",
    "long emma_5=30;\r\n",
    "float emma_6=2.3f;\r\n",
    "double emma_7=2.6;\r\n",
    "char emma_8='e';\r\n",
    "System.out.println(emma_1);\r\n",
    "System.out.println(emma_2);\r\n",
    "System.out.println(emma_3);\r\n",
    "System.out.println(emma_4);\r\n",
    "System.out.println(emma_5);\r\n",
    "System.out.println(emma_6);\r\n",
    "System.out.println(emma_7);\r\n",
    "System.out.println(emma_8);\r\n"
   ]
  },
  {
   "cell_type": "code",
   "execution_count": 2,
   "metadata": {},
   "outputs": [],
   "source": [
    "//Make me a list of any type \r\n",
    "import java.util.ArrayList;\r\n",
    "import java.util.Arrays;\r\n",
    "import java.util.LinkedList;\r\n",
    "\r\n",
    "public class App{\r\n",
    "    public static void main(String[]args)throws Exception{\r\n",
    "        Integer[]numbers={2,4,6,8,10};\r\n",
    "        System.out.println(Arrays.toString(numbers));\r\n",
    "    }\r\n",
    "}"
   ]
  },
  {
   "cell_type": "code",
   "execution_count": 6,
   "metadata": {},
   "outputs": [
    {
     "name": "stdout",
     "output_type": "stream",
     "text": [
      "12\n",
      "-2\n",
      "0\n",
      "35\n",
      "5\n"
     ]
    }
   ],
   "source": [
    "// With whatever variables you'd like demonstrate the following: [Addition, Subtraction, Division, Multiplication, Modulo]. Print all 5.\r\n",
    "byte emma_1=5;\r\n",
    "int emma_2=7;\r\n",
    "System.out.println(emma_1+emma_2);\r\n",
    "System.out.println(emma_1-emma_2);\r\n",
    "System.out.println(emma_1/emma_2);\r\n",
    "System.out.println(emma_1*emma_2);\r\n",
    "System.out.println(emma_1%emma_2);\r\n"
   ]
  },
  {
   "cell_type": "code",
   "execution_count": 5,
   "metadata": {},
   "outputs": [
    {
     "name": "stdout",
     "output_type": "stream",
     "text": [
      "57\n"
     ]
    }
   ],
   "source": [
    "// Using 2 variables and addition print the number 57\r\n",
    "byte emma_1= 37;\r\n",
    "short emma_2=20;\r\n",
    "System.out.println(emma_1+emma_2)"
   ]
  },
  {
   "cell_type": "code",
   "execution_count": 1,
   "metadata": {},
   "outputs": [
    {
     "name": "stdout",
     "output_type": "stream",
     "text": [
      "1\n",
      "5\n"
     ]
    }
   ],
   "source": [
    "// Define a variable and print it out. Then alter the same variable and print it out. This can be through string concatenation or addition, etc.\r\n",
    "int emma_1=1;\r\n",
    "System.out.println(emma_1);\r\n",
    "emma_1+= 4;\r\n",
    "System.out.println(emma_1);\r\n"
   ]
  }
 ],
 "metadata": {
  "kernelspec": {
   "display_name": "Java",
   "language": "java",
   "name": "java"
  },
  "language_info": {
   "codemirror_mode": "java",
   "file_extension": ".jshell",
   "mimetype": "text/x-java-source",
   "name": "Java",
   "pygments_lexer": "java",
   "version": "15.0.2+7-27"
  },
  "orig_nbformat": 2
 },
 "nbformat": 4,
 "nbformat_minor": 2
}